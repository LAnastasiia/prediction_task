{
 "cells": [
  {
   "cell_type": "markdown",
   "metadata": {},
   "source": [
    "using https://towardsdatascience.com/random-forest-in-python-24d0893d51c0"
   ]
  },
  {
   "cell_type": "code",
   "execution_count": 437,
   "metadata": {},
   "outputs": [],
   "source": [
    "import numpy as np\n",
    "import pandas as pd\n",
    "from sklearn.model_selection import train_test_split\n",
    "from sklearn.metrics import classification_report\n",
    "from sklearn.preprocessing import RobustScaler\n",
    "\n",
    "from sklearn.linear_model import LinearRegression\n",
    "from sklearn.linear_model import Lasso\n",
    "from sklearn.svm import SVR\n",
    "from sklearn.tree import DecisionTreeRegressor\n",
    "from sklearn.ensemble import RandomForestRegressor"
   ]
  },
  {
   "cell_type": "markdown",
   "metadata": {},
   "source": [
    "\n",
    "Read CSV, reformat 'day' and 'month' columns into separate columns for each type use them more as features. Partition into training and testing data sets."
   ]
  },
  {
   "cell_type": "code",
   "execution_count": 438,
   "metadata": {},
   "outputs": [],
   "source": [
    "df = pd.read_csv('forestfires.csv')\n",
    "df.dropna()\n",
    "df = pd.get_dummies(df) # Restructure cathegorical data into columns.\n",
    "\n",
    "X = df.drop([\"X\", \"Y\", \"area\"], axis=1).values\n",
    "y = df[\"area\"].values\n",
    "\n",
    "scaler = RobustScaler()\n",
    "X = scaler.fit_transform(X)\n",
    "\n",
    "# # Split into two data sets training and one for validating.\n",
    "X_train, X_test, y_train, y_test = train_test_split(X, y, test_size=0.2)\n"
   ]
  },
  {
   "cell_type": "markdown",
   "metadata": {},
   "source": [
    "Try different models. \n",
    "Calculate mean squared error between the predicted area and the one known from our data-set -- to estimate the level of error's in a model's prediction."
   ]
  },
  {
   "cell_type": "code",
   "execution_count": 439,
   "metadata": {
    "scrolled": true
   },
   "outputs": [
    {
     "name": "stdout",
     "output_type": "stream",
     "text": [
      "1767.778146163178\n"
     ]
    }
   ],
   "source": [
    "# Linear Regression Model\n",
    "\n",
    "lr = LinearRegression()\n",
    "lr.fit(X_train, y_train)\n",
    "y_pred = lr.predict(X_test)\n",
    "\n",
    "\n",
    "print(np.square(np.subtract(y_test,y_pred)).mean())"
   ]
  },
  {
   "cell_type": "code",
   "execution_count": 440,
   "metadata": {},
   "outputs": [
    {
     "name": "stdout",
     "output_type": "stream",
     "text": [
      "1919.5368536976134\n"
     ]
    }
   ],
   "source": [
    "# Support Vectors Regression Model\n",
    "\n",
    "svm = SVR(gamma='auto')  # kernel defalut: Radial basis function\n",
    "svm.fit(X_train, y_train)\n",
    "y_pred = svm.predict(X_test)\n",
    "\n",
    "print(np.square(np.subtract(y_test,y_pred)).mean())"
   ]
  },
  {
   "cell_type": "code",
   "execution_count": 441,
   "metadata": {},
   "outputs": [
    {
     "name": "stdout",
     "output_type": "stream",
     "text": [
      "7660.2805009882495\n"
     ]
    }
   ],
   "source": [
    "# Decision Tree Regression Model\n",
    "# (? not sure if makes sense for quite non-binary classification)\n",
    "\n",
    "clf = DecisionTreeRegressor()\n",
    "clf = clf.fit(X_train, y_train)\n",
    "y_pred = clf.predict(X_test)\n",
    "\n",
    "print(np.square(np.subtract(y_test,y_pred)).mean())"
   ]
  },
  {
   "cell_type": "code",
   "execution_count": 442,
   "metadata": {},
   "outputs": [
    {
     "name": "stdout",
     "output_type": "stream",
     "text": [
      "2950.7336265481886\n"
     ]
    }
   ],
   "source": [
    "# Random Forest Regressor Model\n",
    "# https://medium.com/datadriveninvestor/random-forest-regression-9871bc9a25eb\n",
    "# https://scikit-learn.org/stable/modules/generated/sklearn.ensemble.RandomForestRegressor.html\n",
    "\n",
    "clf = RandomForestRegressor(n_estimators = 500, random_state = 42)\n",
    "clf.fit(X_train, y_train)\n",
    "y_pred = clf.predict(X_test)\n",
    "\n",
    "print(np.square(np.subtract(y_test,y_pred)).mean())"
   ]
  },
  {
   "cell_type": "code",
   "execution_count": 443,
   "metadata": {},
   "outputs": [
    {
     "name": "stdout",
     "output_type": "stream",
     "text": [
      "1773.7587023033755\n"
     ]
    }
   ],
   "source": [
    "clf = Lasso(alpha=0.1)\n",
    "clf.fit(X_train, y_train)\n",
    "y_pred = clf.predict(X_test)\n",
    "\n",
    "print(np.square(np.subtract(y_test,y_pred)).mean())"
   ]
  }
 ],
 "metadata": {
  "kernelspec": {
   "display_name": "Python 3",
   "language": "python",
   "name": "python3"
  },
  "language_info": {
   "codemirror_mode": {
    "name": "ipython",
    "version": 3
   },
   "file_extension": ".py",
   "mimetype": "text/x-python",
   "name": "python",
   "nbconvert_exporter": "python",
   "pygments_lexer": "ipython3",
   "version": "3.6.8"
  }
 },
 "nbformat": 4,
 "nbformat_minor": 2
}
