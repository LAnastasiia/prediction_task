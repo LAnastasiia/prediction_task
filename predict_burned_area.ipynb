{
 "cells": [
  {
   "cell_type": "code",
   "execution_count": 1,
   "metadata": {},
   "outputs": [],
   "source": [
    "import numpy as np\n",
    "import pandas as pd\n",
    "import sklearn\n",
    "from sklearn.model_selection import train_test_split\n",
    "from sklearn.metrics import mean_squared_error\n",
    "from sklearn.metrics import r2_score\n",
    "from sklearn.model_selection import cross_val_score\n",
    "from sklearn.preprocessing import RobustScaler\n",
    "from sklearn.model_selection import KFold\n",
    "\n",
    "from sklearn.linear_model import LinearRegression\n",
    "from sklearn.linear_model import Lasso\n",
    "from sklearn.svm import SVR\n",
    "from sklearn.tree import DecisionTreeRegressor\n",
    "from sklearn.ensemble import RandomForestRegressor\n",
    "\n",
    "def get_num_folds(cv_percent=20):\n",
    "    import math\n",
    "    return math.floor(X.shape[0] / (X.shape[0] * (cv_percent / 100)))"
   ]
  },
  {
   "cell_type": "markdown",
   "metadata": {},
   "source": [
    "### Data preprocessing"
   ]
  },
  {
   "cell_type": "markdown",
   "metadata": {},
   "source": [
    "This dataset contains few non-numerical features. Here we restructure cathegorical data into boolean-valued columns to be able to include them into model in the numerical form"
   ]
  },
  {
   "cell_type": "code",
   "execution_count": 3,
   "metadata": {},
   "outputs": [],
   "source": [
    "df = pd.read_csv('forestfires.csv')\n",
    "df.dropna()\n",
    "\n",
    "df = pd.get_dummies(df)"
   ]
  },
  {
   "cell_type": "markdown",
   "metadata": {},
   "source": [
    "### Preparing the subsets"
   ]
  },
  {
   "cell_type": "code",
   "execution_count": 4,
   "metadata": {},
   "outputs": [],
   "source": [
    "X = df.drop([\"X\", \"Y\", \"area\"], axis=1).values\n",
    "y = df[\"area\"].values\n",
    "\n",
    "scaler = RobustScaler()\n",
    "X = scaler.fit_transform(X)"
   ]
  },
  {
   "cell_type": "markdown",
   "metadata": {},
   "source": [
    "For later interpretation of the model performance, we split dataset into three subsets: <br>\n",
    "   1 - train <br>\n",
    "   2 - cross-validation [20%] <br>\n",
    "   3 - test [20%] <br>"
   ]
  },
  {
   "cell_type": "code",
   "execution_count": 5,
   "metadata": {},
   "outputs": [],
   "source": [
    "X_train, X_test, y_train, y_test = train_test_split(X, y, test_size=0.4, random_state=0)"
   ]
  },
  {
   "cell_type": "markdown",
   "metadata": {},
   "source": [
    "### Training regression model"
   ]
  },
  {
   "cell_type": "markdown",
   "metadata": {},
   "source": [
    "Train a Linear Regression model and perform regression analysis using the coefficient of determination ('r2').  "
   ]
  },
  {
   "cell_type": "code",
   "execution_count": 24,
   "metadata": {},
   "outputs": [
    {
     "name": "stdout",
     "output_type": "stream",
     "text": [
      "r2 scores for c-v set: \n",
      "\t [0.0, -23.201428061357053, -0.06549228965656928, -0.36743826067068475, -0.06306239239599809]; \n",
      "\t mean: -4.739484200816061\n",
      "Mean r2 score for test set: -0.06306239239599809\n"
     ]
    }
   ],
   "source": [
    "from sklearn.model_selection import KFold\n",
    "\n",
    "lr = LinearRegression()\n",
    "kf = KFold(n_splits=5, random_state=None, shuffle=False) \n",
    "\n",
    "scores = []\n",
    "for train_index, test_index in kf.split(X):\n",
    "    X_tr, X_cv = X[train_index], X[test_index]\n",
    "    y_tr, y_cv = y[train_index], y[test_index]\n",
    "    \n",
    "    lr.fit(X_tr, y_tr)\n",
    "    y_pred = lr.predict(X_cv)\n",
    "    scores.append(r2_score(y_cv, y_pred, multioutput='variance_weighted'))    \n",
    "\n",
    "lr.fit(X_train, y_train)\n",
    "y_pred = lr.predict(X_test)\n",
    "\n",
    "print(\"r2 scores for c-v set: \\n\\t {}; \\n\\t mean: {}\".format(scores, np.mean(scores)))\n",
    "print(\"Mean r2 score for test set: {}\".format(r2_score(y_test, y_pred, multioutput='variance_weighted')))"
   ]
  }
 ],
 "metadata": {
  "kernelspec": {
   "display_name": "Python 3",
   "language": "python",
   "name": "python3"
  },
  "language_info": {
   "codemirror_mode": {
    "name": "ipython",
    "version": 3
   },
   "file_extension": ".py",
   "mimetype": "text/x-python",
   "name": "python",
   "nbconvert_exporter": "python",
   "pygments_lexer": "ipython3",
   "version": "3.7.3"
  }
 },
 "nbformat": 4,
 "nbformat_minor": 2
}
